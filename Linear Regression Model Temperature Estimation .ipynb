{
 "cells": [
  {
   "cell_type": "code",
   "execution_count": 12,
   "id": "66efbae7",
   "metadata": {},
   "outputs": [],
   "source": [
    "import sklearn\n",
    "import matplotlib.pyplot as plt\n",
    "import numpy as np\n",
    "import random\n",
    "from sklearn import model_selection\n",
    "from sklearn import linear_model\n"
   ]
  },
  {
   "cell_type": "code",
   "execution_count": 9,
   "id": "9d1777a0",
   "metadata": {},
   "outputs": [
    {
     "name": "stdout",
     "output_type": "stream",
     "text": [
      "X: [0, 1, 2, 3, 4, 5, 6, 7, 8, 9]\n",
      "Y: [32.0, 33.8, 35.6, 37.4, 39.2, 41.0, 42.8, 44.6, 46.4, 48.2]\n"
     ]
    },
    {
     "data": {
      "image/png": "[encoded data removed]",
      "text/plain": [
       "<Figure size 432x288 with 1 Axes>"
      ]
     },
     "metadata": {
      "needs_background": "light"
     },
     "output_type": "display_data"
    }
   ],
   "source": [
    "# y = mx+c\n",
    "# F = 1.8*C +32\n",
    "\n",
    "x = list(range(0,10)) # C\n",
    "y = [1.8*F +32  for F in x] # F\n",
    "# y = [1.8*F +32 +random.randint(-3,3) for F in x]\n",
    "print(f'X: {x}')\n",
    "print(f'Y: {y}')\n",
    "plt.plot(x,y,'-*r')\n",
    "plt.show()\n",
    "\n"
   ]
  },
  {
   "cell_type": "code",
   "execution_count": 10,
   "id": "33140cae",
   "metadata": {},
   "outputs": [
    {
     "name": "stdout",
     "output_type": "stream",
     "text": [
      "(8, 1)\n"
     ]
    }
   ],
   "source": [
    "x = np.array(x).reshape(-1,1)\n",
    "y = np.array(y).reshape(-1,1)\n",
    "\n",
    "xTrain, xTest, yTrain, yTest = model_selection.train_test_split(x,y,test_size=0.2)\n",
    "print(xTrain.shape)"
   ]
  },
  {
   "cell_type": "code",
   "execution_count": 19,
   "id": "fe90f4dd",
   "metadata": {},
   "outputs": [
    {
     "name": "stdout",
     "output_type": "stream",
     "text": [
      "Cofficients: [[1.8]]\n",
      "Intercept: [32.]\n"
     ]
    }
   ],
   "source": [
    "model = linear_model.LinearRegression()\n",
    "model.fit(xTrain,yTrain)\n",
    "print(f'Cofficients: {model.coef_}')\n",
    "print(f'Intercept: {model.intercept_}')\n",
    "\n"
   ]
  },
  {
   "cell_type": "code",
   "execution_count": 18,
   "id": "64300a78",
   "metadata": {},
   "outputs": [
    {
     "name": "stdout",
     "output_type": "stream",
     "text": [
      "Accuracy: 100.0\n"
     ]
    }
   ],
   "source": [
    "accuracy = model.score(xTest,yTest)\n",
    "print(f'Accuracy: {round(accuracy*100,2)}')"
   ]
  },
  {
   "cell_type": "code",
   "execution_count": 20,
   "id": "e304a267",
   "metadata": {},
   "outputs": [
    {
     "name": "stdout",
     "output_type": "stream",
     "text": [
      "20 degrees Celsius is equal to 68.00 degrees Fahrenheit.\n"
     ]
    }
   ],
   "source": [
    "#Predict\n",
    "new_input = [[20]]\n",
    "predicted_output = model.predict(new_input)\n",
    "print(f'20 degrees Celsius is equal to {predicted_output[0][0]:.2f} degrees Fahrenheit.')\n"
   ]
  },
  {
   "cell_type": "code",
   "execution_count": 22,
   "id": "af456c23",
   "metadata": {},
   "outputs": [
    {
     "data": {
      "image/png": "[encoded data removed]",
      "text/plain": [
       "<Figure size 432x288 with 1 Axes>"
      ]
     },
     "metadata": {
      "needs_background": "light"
     },
     "output_type": "display_data"
    }
   ],
   "source": [
    "#Scatter Plot \n",
    "yTrainPredict = model.predict(xTrain)\n",
    "yTestPredict = model.predict(xTest)\n",
    "\n",
    "plt.plot(xTrain, yTrain, 'o', label='Real training data')\n",
    "plt.plot(xTrain, yTrainPredict, 'o', label='Predicted training data')\n",
    "plt.plot(xTest, yTest, 's', label='Real test data')\n",
    "plt.plot(xTest, yTestPredict, 's', label='Predicted test data')\n",
    "plt.legend(loc='best')\n",
    "plt.show()"
   ]
  },
  {
   "cell_type": "code",
   "execution_count": 24,
   "id": "5a8819eb",
   "metadata": {},
   "outputs": [
    {
     "name": "stdout",
     "output_type": "stream",
     "text": [
      "Training data MSE: 0.00\n",
      "Test data MSE: 0.00\n",
      "Training data MAE: 0.00\n",
      "Test data MAE: 0.00\n"
     ]
    }
   ],
   "source": [
    "# Error Analysis\n",
    "from sklearn.metrics import mean_squared_error, mean_absolute_error\n",
    "\n",
    "yTrainPredict = model.predict(xTrain)\n",
    "yTestPredict = model.predict(xTest)\n",
    "\n",
    "print(f'Training data MSE: {mean_squared_error(yTrain, yTrainPredict):.2f}')\n",
    "print(f'Test data MSE: {mean_squared_error(yTest, yTestPredict):.2f}')\n",
    "print(f'Training data MAE: {mean_absolute_error(yTrain, yTrainPredict):.2f}')\n",
    "print(f'Test data MAE: {mean_absolute_error(yTest, yTestPredict):.2f}')\n"
   ]
  },
  {
   "cell_type": "code",
   "execution_count": null,
   "id": "9df6de3d",
   "metadata": {},
   "outputs": [],
   "source": []
  }
 ],
 "metadata": {
  "kernelspec": {
   "display_name": "Python 3",
   "language": "python",
   "name": "python3"
  },
  "language_info": {
   "codemirror_mode": {
    "name": "ipython",
    "version": 3
   },
   "file_extension": ".py",
   "mimetype": "text/x-python",
   "name": "python",
   "nbconvert_exporter": "python",
   "pygments_lexer": "ipython3",
   "version": "3.8.8"
  }
 },
 "nbformat": 4,
 "nbformat_minor": 5
}
